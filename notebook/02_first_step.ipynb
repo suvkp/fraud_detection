{
 "cells": [
  {
   "cell_type": "code",
   "execution_count": 2,
   "metadata": {},
   "outputs": [],
   "source": [
    "import sys\n",
    "from pathlib import Path\n",
    "\n",
    "# Get the project root path and add it to sys.path\n",
    "project_root = Path().resolve().parent  # Adjust to point to your project root if necessary\n",
    "src_path = project_root / 'src'\n",
    "\n",
    "if str(src_path) not in sys.path:\n",
    "    sys.path.append(str(src_path))"
   ]
  },
  {
   "cell_type": "code",
   "execution_count": 3,
   "metadata": {},
   "outputs": [],
   "source": [
    "import pandas as pd\n",
    "import numpy as np\n",
    "from data_loader import DataLoader\n",
    "import eda\n",
    "import seaborn as sns\n",
    "import matplotlib.pyplot as plt"
   ]
  },
  {
   "cell_type": "code",
   "execution_count": 34,
   "metadata": {},
   "outputs": [
    {
     "name": "stdout",
     "output_type": "stream",
     "text": [
      "(144233, 41)\n",
      "(590540, 394)\n",
      "(141907, 41)\n",
      "(506691, 393)\n"
     ]
    }
   ],
   "source": [
    "train_id = DataLoader(\"../data/train_identity.csv\")\n",
    "train_trans = DataLoader(\"../data/train_transaction.csv\")\n",
    "\n",
    "test_id = DataLoader(\"../data/test_identity.csv\")\n",
    "test_trans = DataLoader(\"../data/test_transaction.csv\")\n",
    "\n",
    "print(train_id.dataset.shape)\n",
    "print(train_trans.dataset.shape)\n",
    "\n",
    "print(test_id.dataset.shape)\n",
    "print(test_trans.dataset.shape)"
   ]
  },
  {
   "cell_type": "markdown",
   "metadata": {},
   "source": [
    "## Feature removal/selection"
   ]
  },
  {
   "cell_type": "code",
   "execution_count": 36,
   "metadata": {},
   "outputs": [
    {
     "name": "stdout",
     "output_type": "stream",
     "text": [
      "24\n",
      "380\n"
     ]
    }
   ],
   "source": [
    "# separates categorical & numerical variables\n",
    "num_cols_id = train_id.dataset.select_dtypes(include=['number']).columns\n",
    "num_cols_trans = train_trans.dataset.select_dtypes(include=['number']).columns\n",
    "print(f\"{len(num_cols_id)}\")\n",
    "print(f\"{len(num_cols_trans)}\")\n",
    "\n",
    "# Fill up <UNKWN> token for categorical variables & a integer for numerical (-1) variables"
   ]
  },
  {
   "cell_type": "code",
   "execution_count": null,
   "metadata": {},
   "outputs": [
    {
     "name": "stdout",
     "output_type": "stream",
     "text": [
      "Total # of categorical variables in transaction data: 20\n",
      "Total # of categorical variables in id data: 29\n",
      "Total # of numerical variables in transaction data: 374\n",
      "Total # of numerical variables in id data: 12\n",
      "Total # of columns in transaction data: 394\n",
      "Total # of columns in id data: 41\n"
     ]
    }
   ],
   "source": [
    "# Separate categorical & numerical columns\n",
    "def get_sequential_features(starting_letter, num_start, num_end):\n",
    "    return [f\"{starting_letter}{i}\" for i in range(num_start, num_end+1)]\n",
    "\n",
    "trans_categorical_cols = ['ProductCD'] + get_sequential_features('card', 1, 6) + get_sequential_features('addr', 1, 2) + \\\n",
    "                            ['P_emaildomain', 'R_emaildomain'] + get_sequential_features('M', 1, 9)\n",
    "id_categorical_cols = ['DeviceType', 'DeviceInfo'] + get_sequential_features('id_', 12, 38)\n",
    "print(f\"Total # of categorical variables in transaction data: {len(trans_categorical_cols)}\")\n",
    "print(f\"Total # of categorical variables in id data: {len(id_categorical_cols)}\")\n",
    "\n",
    "trans_num_cols = [c for c in train_trans.dataset.columns.tolist() if c not in trans_categorical_cols]\n",
    "id_num_cols = [c for c in train_id.dataset.columns.tolist() if c not in id_categorical_cols]\n",
    "print(f\"Total # of numerical variables in transaction data: {len(trans_num_cols)}\")\n",
    "print(f\"Total # of numerical variables in id data: {len(id_num_cols)}\")\n",
    "\n",
    "# checks\n",
    "print(f\"Total # of columns in transaction data: {len(trans_categorical_cols) + len(trans_num_cols)}\")\n",
    "print(f\"Total # of columns in id data: {len(id_categorical_cols) + len(id_num_cols)}\")"
   ]
  },
  {
   "cell_type": "code",
   "execution_count": 39,
   "metadata": {},
   "outputs": [],
   "source": [
    "# imputing -999 for all the missing values in numerical column\n",
    "for c in id_num_cols:\n",
    "    train_id.dataset[c].fillna(-999, inplace=True)\n",
    "\n",
    "for c in trans_num_cols:\n",
    "    train_trans.dataset[c].fillna(-999, inplace=True)"
   ]
  },
  {
   "cell_type": "code",
   "execution_count": 40,
   "metadata": {},
   "outputs": [],
   "source": [
    "# imputing <UNKWN> for all the missing values in categorical column\n",
    "for c in id_categorical_cols:\n",
    "    train_id.dataset[c].fillna('<UNKWN>', inplace=True)\n",
    "\n",
    "for c in trans_categorical_cols:\n",
    "    train_trans.dataset[c].fillna('<UNKWN>', inplace=True)"
   ]
  },
  {
   "cell_type": "code",
   "execution_count": 44,
   "metadata": {},
   "outputs": [
    {
     "name": "stdout",
     "output_type": "stream",
     "text": [
      "(144233, 32)\n",
      "(590540, 372)\n"
     ]
    }
   ],
   "source": [
    "# Remove features with > 90% missing values\n",
    "features_to_rem_id = ['id_07', 'id_08'] + [f'id_{i}' for i in range(21,28)]\n",
    "features_to_rem_trans = ['dist1', 'D11'] + [f'M{i}' for i in range(1,10)] + [f'V{i}' for i in range(1,12)]\n",
    "\n",
    "train_id_v2 = train_id.dataset.drop(features_to_rem_id, axis=1)\n",
    "train_trans_v2 = train_trans.dataset.drop(features_to_rem_trans, axis=1)\n",
    "\n",
    "print(train_id_v2.shape)\n",
    "print(train_trans_v2.shape)"
   ]
  },
  {
   "cell_type": "code",
   "execution_count": 31,
   "metadata": {},
   "outputs": [],
   "source": [
    "# Categorical Features:\n",
    "# ProductCD\n",
    "# card1 - card6\n",
    "# addr1, addr2\n",
    "# P_emaildomain\n",
    "# R_emaildomain\n",
    "# M1 - M9\n",
    "\n",
    "# Categorical Features:\n",
    "# DeviceType\n",
    "# DeviceInfo\n",
    "# id_12 - id_38"
   ]
  }
 ],
 "metadata": {
  "kernelspec": {
   "display_name": ".venv",
   "language": "python",
   "name": "python3"
  },
  "language_info": {
   "codemirror_mode": {
    "name": "ipython",
    "version": 3
   },
   "file_extension": ".py",
   "mimetype": "text/x-python",
   "name": "python",
   "nbconvert_exporter": "python",
   "pygments_lexer": "ipython3",
   "version": "3.10.1"
  }
 },
 "nbformat": 4,
 "nbformat_minor": 2
}
