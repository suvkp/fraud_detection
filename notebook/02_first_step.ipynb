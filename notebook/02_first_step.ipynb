{
 "cells": [
  {
   "cell_type": "code",
   "execution_count": 1,
   "metadata": {},
   "outputs": [],
   "source": [
    "import sys\n",
    "from pathlib import Path\n",
    "\n",
    "# Get the project root path and add it to sys.path\n",
    "project_root = Path().resolve().parent  # Adjust to point to your project root if necessary\n",
    "src_path = project_root / 'src'\n",
    "\n",
    "if str(src_path) not in sys.path:\n",
    "    sys.path.append(str(src_path))"
   ]
  },
  {
   "cell_type": "code",
   "execution_count": 2,
   "metadata": {},
   "outputs": [],
   "source": [
    "import pandas as pd\n",
    "import numpy as np\n",
    "from data_loader import DataLoader\n",
    "import eda\n",
    "import seaborn as sns\n",
    "import matplotlib.pyplot as plt"
   ]
  },
  {
   "cell_type": "code",
   "execution_count": 26,
   "metadata": {},
   "outputs": [
    {
     "name": "stdout",
     "output_type": "stream",
     "text": [
      "(144233, 41)\n",
      "(590540, 394)\n",
      "(141907, 41)\n",
      "(506691, 393)\n"
     ]
    }
   ],
   "source": [
    "train_id = DataLoader(\"../data/train_identity.csv\")\n",
    "train_trans = DataLoader(\"../data/train_transaction.csv\")\n",
    "\n",
    "test_id = DataLoader(\"../data/test_identity.csv\")\n",
    "test_trans = DataLoader(\"../data/test_transaction.csv\")\n",
    "\n",
    "print(train_id.dataset.shape)\n",
    "print(train_trans.dataset.shape)\n",
    "\n",
    "print(test_id.dataset.shape)\n",
    "print(test_trans.dataset.shape)"
   ]
  },
  {
   "cell_type": "code",
   "execution_count": 27,
   "metadata": {},
   "outputs": [],
   "source": [
    "train_trans.dataset['TransactionDay'] = train_trans.dataset['TransactionDT']/(60*60*24)\n",
    "\n",
    "train_trans.dataset['UID_temp'] = train_trans.dataset['D1'].astype(str) + '-' + train_trans.dataset['card1'].astype(str) + '-' + train_trans.dataset['addr1'].astype(str)\n",
    "uid_map = train_trans.dataset.groupby('UID_temp')['TransactionID'].first().reset_index().rename(columns={'TransactionID': 'UID'})\n",
    "uid_map['UID'] = uid_map['UID'].astype(np.int32)\n",
    "train_trans_uid = train_trans.dataset.merge(uid_map, on='UID_temp', how='left', suffixes=('', '_y'))\n"
   ]
  },
  {
   "cell_type": "code",
   "execution_count": 31,
   "metadata": {},
   "outputs": [
    {
     "data": {
      "text/html": [
       "<div>\n",
       "<style scoped>\n",
       "    .dataframe tbody tr th:only-of-type {\n",
       "        vertical-align: middle;\n",
       "    }\n",
       "\n",
       "    .dataframe tbody tr th {\n",
       "        vertical-align: top;\n",
       "    }\n",
       "\n",
       "    .dataframe thead th {\n",
       "        text-align: right;\n",
       "    }\n",
       "</style>\n",
       "<table border=\"1\" class=\"dataframe\">\n",
       "  <thead>\n",
       "    <tr style=\"text-align: right;\">\n",
       "      <th></th>\n",
       "      <th>UID</th>\n",
       "      <th>TransactionID</th>\n",
       "      <th>TransactionDay</th>\n",
       "      <th>TransactionAmt</th>\n",
       "      <th>D1</th>\n",
       "      <th>D2</th>\n",
       "      <th>D3</th>\n",
       "      <th>D4</th>\n",
       "      <th>D5</th>\n",
       "      <th>D6</th>\n",
       "      <th>...</th>\n",
       "      <th>D14</th>\n",
       "      <th>D15</th>\n",
       "      <th>card1</th>\n",
       "      <th>card2</th>\n",
       "      <th>card3</th>\n",
       "      <th>card4</th>\n",
       "      <th>card5</th>\n",
       "      <th>card6</th>\n",
       "      <th>addr1</th>\n",
       "      <th>addr2</th>\n",
       "    </tr>\n",
       "  </thead>\n",
       "  <tbody>\n",
       "    <tr>\n",
       "      <th>0</th>\n",
       "      <td>2987000</td>\n",
       "      <td>2987000</td>\n",
       "      <td>1.000000</td>\n",
       "      <td>68.50</td>\n",
       "      <td>14.0</td>\n",
       "      <td>NaN</td>\n",
       "      <td>13.0</td>\n",
       "      <td>NaN</td>\n",
       "      <td>NaN</td>\n",
       "      <td>NaN</td>\n",
       "      <td>...</td>\n",
       "      <td>NaN</td>\n",
       "      <td>0.0</td>\n",
       "      <td>13926</td>\n",
       "      <td>NaN</td>\n",
       "      <td>150.0</td>\n",
       "      <td>discover</td>\n",
       "      <td>142.0</td>\n",
       "      <td>credit</td>\n",
       "      <td>315.0</td>\n",
       "      <td>87.0</td>\n",
       "    </tr>\n",
       "    <tr>\n",
       "      <th>1</th>\n",
       "      <td>2987001</td>\n",
       "      <td>2987001</td>\n",
       "      <td>1.000012</td>\n",
       "      <td>29.00</td>\n",
       "      <td>0.0</td>\n",
       "      <td>NaN</td>\n",
       "      <td>NaN</td>\n",
       "      <td>0.0</td>\n",
       "      <td>NaN</td>\n",
       "      <td>NaN</td>\n",
       "      <td>...</td>\n",
       "      <td>NaN</td>\n",
       "      <td>0.0</td>\n",
       "      <td>2755</td>\n",
       "      <td>404.0</td>\n",
       "      <td>150.0</td>\n",
       "      <td>mastercard</td>\n",
       "      <td>102.0</td>\n",
       "      <td>credit</td>\n",
       "      <td>325.0</td>\n",
       "      <td>87.0</td>\n",
       "    </tr>\n",
       "    <tr>\n",
       "      <th>20366</th>\n",
       "      <td>2987001</td>\n",
       "      <td>3007366</td>\n",
       "      <td>6.040856</td>\n",
       "      <td>524.95</td>\n",
       "      <td>0.0</td>\n",
       "      <td>NaN</td>\n",
       "      <td>NaN</td>\n",
       "      <td>14.0</td>\n",
       "      <td>0.0</td>\n",
       "      <td>NaN</td>\n",
       "      <td>...</td>\n",
       "      <td>NaN</td>\n",
       "      <td>0.0</td>\n",
       "      <td>2755</td>\n",
       "      <td>404.0</td>\n",
       "      <td>150.0</td>\n",
       "      <td>mastercard</td>\n",
       "      <td>102.0</td>\n",
       "      <td>credit</td>\n",
       "      <td>325.0</td>\n",
       "      <td>87.0</td>\n",
       "    </tr>\n",
       "    <tr>\n",
       "      <th>20665</th>\n",
       "      <td>2987001</td>\n",
       "      <td>3007665</td>\n",
       "      <td>6.103623</td>\n",
       "      <td>300.00</td>\n",
       "      <td>0.0</td>\n",
       "      <td>NaN</td>\n",
       "      <td>NaN</td>\n",
       "      <td>NaN</td>\n",
       "      <td>NaN</td>\n",
       "      <td>NaN</td>\n",
       "      <td>...</td>\n",
       "      <td>0.0</td>\n",
       "      <td>NaN</td>\n",
       "      <td>2755</td>\n",
       "      <td>404.0</td>\n",
       "      <td>150.0</td>\n",
       "      <td>mastercard</td>\n",
       "      <td>102.0</td>\n",
       "      <td>credit</td>\n",
       "      <td>325.0</td>\n",
       "      <td>87.0</td>\n",
       "    </tr>\n",
       "    <tr>\n",
       "      <th>20669</th>\n",
       "      <td>2987001</td>\n",
       "      <td>3007669</td>\n",
       "      <td>6.104144</td>\n",
       "      <td>300.00</td>\n",
       "      <td>0.0</td>\n",
       "      <td>NaN</td>\n",
       "      <td>NaN</td>\n",
       "      <td>NaN</td>\n",
       "      <td>NaN</td>\n",
       "      <td>NaN</td>\n",
       "      <td>...</td>\n",
       "      <td>0.0</td>\n",
       "      <td>NaN</td>\n",
       "      <td>2755</td>\n",
       "      <td>404.0</td>\n",
       "      <td>150.0</td>\n",
       "      <td>mastercard</td>\n",
       "      <td>102.0</td>\n",
       "      <td>credit</td>\n",
       "      <td>325.0</td>\n",
       "      <td>87.0</td>\n",
       "    </tr>\n",
       "    <tr>\n",
       "      <th>20844</th>\n",
       "      <td>2987001</td>\n",
       "      <td>3007844</td>\n",
       "      <td>6.143171</td>\n",
       "      <td>300.00</td>\n",
       "      <td>0.0</td>\n",
       "      <td>0.0</td>\n",
       "      <td>NaN</td>\n",
       "      <td>NaN</td>\n",
       "      <td>NaN</td>\n",
       "      <td>NaN</td>\n",
       "      <td>...</td>\n",
       "      <td>NaN</td>\n",
       "      <td>NaN</td>\n",
       "      <td>2755</td>\n",
       "      <td>404.0</td>\n",
       "      <td>150.0</td>\n",
       "      <td>mastercard</td>\n",
       "      <td>102.0</td>\n",
       "      <td>credit</td>\n",
       "      <td>325.0</td>\n",
       "      <td>87.0</td>\n",
       "    </tr>\n",
       "    <tr>\n",
       "      <th>23365</th>\n",
       "      <td>2987001</td>\n",
       "      <td>3010365</td>\n",
       "      <td>6.921644</td>\n",
       "      <td>1183.47</td>\n",
       "      <td>0.0</td>\n",
       "      <td>NaN</td>\n",
       "      <td>NaN</td>\n",
       "      <td>0.0</td>\n",
       "      <td>NaN</td>\n",
       "      <td>NaN</td>\n",
       "      <td>...</td>\n",
       "      <td>NaN</td>\n",
       "      <td>0.0</td>\n",
       "      <td>2755</td>\n",
       "      <td>404.0</td>\n",
       "      <td>150.0</td>\n",
       "      <td>mastercard</td>\n",
       "      <td>102.0</td>\n",
       "      <td>credit</td>\n",
       "      <td>325.0</td>\n",
       "      <td>87.0</td>\n",
       "    </tr>\n",
       "    <tr>\n",
       "      <th>53726</th>\n",
       "      <td>2987001</td>\n",
       "      <td>3040726</td>\n",
       "      <td>14.685243</td>\n",
       "      <td>39.00</td>\n",
       "      <td>0.0</td>\n",
       "      <td>NaN</td>\n",
       "      <td>NaN</td>\n",
       "      <td>NaN</td>\n",
       "      <td>NaN</td>\n",
       "      <td>NaN</td>\n",
       "      <td>...</td>\n",
       "      <td>NaN</td>\n",
       "      <td>0.0</td>\n",
       "      <td>2755</td>\n",
       "      <td>404.0</td>\n",
       "      <td>150.0</td>\n",
       "      <td>mastercard</td>\n",
       "      <td>102.0</td>\n",
       "      <td>credit</td>\n",
       "      <td>325.0</td>\n",
       "      <td>87.0</td>\n",
       "    </tr>\n",
       "    <tr>\n",
       "      <th>63566</th>\n",
       "      <td>2987001</td>\n",
       "      <td>3050566</td>\n",
       "      <td>16.749398</td>\n",
       "      <td>265.00</td>\n",
       "      <td>0.0</td>\n",
       "      <td>NaN</td>\n",
       "      <td>NaN</td>\n",
       "      <td>138.0</td>\n",
       "      <td>22.0</td>\n",
       "      <td>NaN</td>\n",
       "      <td>...</td>\n",
       "      <td>NaN</td>\n",
       "      <td>138.0</td>\n",
       "      <td>2755</td>\n",
       "      <td>404.0</td>\n",
       "      <td>150.0</td>\n",
       "      <td>mastercard</td>\n",
       "      <td>102.0</td>\n",
       "      <td>credit</td>\n",
       "      <td>325.0</td>\n",
       "      <td>87.0</td>\n",
       "    </tr>\n",
       "    <tr>\n",
       "      <th>66313</th>\n",
       "      <td>2987001</td>\n",
       "      <td>3053313</td>\n",
       "      <td>17.210150</td>\n",
       "      <td>353.95</td>\n",
       "      <td>0.0</td>\n",
       "      <td>NaN</td>\n",
       "      <td>NaN</td>\n",
       "      <td>0.0</td>\n",
       "      <td>NaN</td>\n",
       "      <td>NaN</td>\n",
       "      <td>...</td>\n",
       "      <td>NaN</td>\n",
       "      <td>0.0</td>\n",
       "      <td>2755</td>\n",
       "      <td>404.0</td>\n",
       "      <td>150.0</td>\n",
       "      <td>mastercard</td>\n",
       "      <td>102.0</td>\n",
       "      <td>credit</td>\n",
       "      <td>325.0</td>\n",
       "      <td>87.0</td>\n",
       "    </tr>\n",
       "  </tbody>\n",
       "</table>\n",
       "<p>10 rows × 27 columns</p>\n",
       "</div>"
      ],
      "text/plain": [
       "           UID  TransactionID  TransactionDay  TransactionAmt    D1   D2  \\\n",
       "0      2987000        2987000        1.000000           68.50  14.0  NaN   \n",
       "1      2987001        2987001        1.000012           29.00   0.0  NaN   \n",
       "20366  2987001        3007366        6.040856          524.95   0.0  NaN   \n",
       "20665  2987001        3007665        6.103623          300.00   0.0  NaN   \n",
       "20669  2987001        3007669        6.104144          300.00   0.0  NaN   \n",
       "20844  2987001        3007844        6.143171          300.00   0.0  0.0   \n",
       "23365  2987001        3010365        6.921644         1183.47   0.0  NaN   \n",
       "53726  2987001        3040726       14.685243           39.00   0.0  NaN   \n",
       "63566  2987001        3050566       16.749398          265.00   0.0  NaN   \n",
       "66313  2987001        3053313       17.210150          353.95   0.0  NaN   \n",
       "\n",
       "         D3     D4    D5  D6  ...  D14    D15  card1  card2  card3  \\\n",
       "0      13.0    NaN   NaN NaN  ...  NaN    0.0  13926    NaN  150.0   \n",
       "1       NaN    0.0   NaN NaN  ...  NaN    0.0   2755  404.0  150.0   \n",
       "20366   NaN   14.0   0.0 NaN  ...  NaN    0.0   2755  404.0  150.0   \n",
       "20665   NaN    NaN   NaN NaN  ...  0.0    NaN   2755  404.0  150.0   \n",
       "20669   NaN    NaN   NaN NaN  ...  0.0    NaN   2755  404.0  150.0   \n",
       "20844   NaN    NaN   NaN NaN  ...  NaN    NaN   2755  404.0  150.0   \n",
       "23365   NaN    0.0   NaN NaN  ...  NaN    0.0   2755  404.0  150.0   \n",
       "53726   NaN    NaN   NaN NaN  ...  NaN    0.0   2755  404.0  150.0   \n",
       "63566   NaN  138.0  22.0 NaN  ...  NaN  138.0   2755  404.0  150.0   \n",
       "66313   NaN    0.0   NaN NaN  ...  NaN    0.0   2755  404.0  150.0   \n",
       "\n",
       "            card4  card5   card6  addr1  addr2  \n",
       "0        discover  142.0  credit  315.0   87.0  \n",
       "1      mastercard  102.0  credit  325.0   87.0  \n",
       "20366  mastercard  102.0  credit  325.0   87.0  \n",
       "20665  mastercard  102.0  credit  325.0   87.0  \n",
       "20669  mastercard  102.0  credit  325.0   87.0  \n",
       "20844  mastercard  102.0  credit  325.0   87.0  \n",
       "23365  mastercard  102.0  credit  325.0   87.0  \n",
       "53726  mastercard  102.0  credit  325.0   87.0  \n",
       "63566  mastercard  102.0  credit  325.0   87.0  \n",
       "66313  mastercard  102.0  credit  325.0   87.0  \n",
       "\n",
       "[10 rows x 27 columns]"
      ]
     },
     "execution_count": 31,
     "metadata": {},
     "output_type": "execute_result"
    }
   ],
   "source": [
    "train_trans_uid[['UID', 'TransactionID', 'TransactionDay', 'TransactionAmt']+ [f'D{i+1}' for i in range(15)] + [f'card{i+1}' for i in range(6)] + ['addr1', 'addr2']].sort_values(by=['UID','TransactionID']).head(10)"
   ]
  },
  {
   "cell_type": "markdown",
   "metadata": {},
   "source": [
    "## Missing Imputation"
   ]
  },
  {
   "cell_type": "code",
   "execution_count": 4,
   "metadata": {},
   "outputs": [
    {
     "name": "stdout",
     "output_type": "stream",
     "text": [
      "24\n",
      "380\n"
     ]
    }
   ],
   "source": [
    "# separates categorical & numerical variables\n",
    "num_cols_id = train_id.dataset.select_dtypes(include=['number']).columns\n",
    "num_cols_trans = train_trans.dataset.select_dtypes(include=['number']).columns\n",
    "print(f\"{len(num_cols_id)}\")\n",
    "print(f\"{len(num_cols_trans)}\")\n",
    "\n",
    "# Fill up <UNKWN> token for categorical variables & a integer for numerical (-1) variables"
   ]
  },
  {
   "cell_type": "code",
   "execution_count": 5,
   "metadata": {},
   "outputs": [
    {
     "name": "stdout",
     "output_type": "stream",
     "text": [
      "Total # of categorical variables in transaction data: 20\n",
      "Total # of categorical variables in id data: 29\n",
      "Total # of numerical variables in transaction data: 374\n",
      "Total # of numerical variables in id data: 12\n",
      "Total # of columns in transaction data: 394\n",
      "Total # of columns in id data: 41\n"
     ]
    }
   ],
   "source": [
    "# Separate categorical & numerical columns\n",
    "def get_sequential_features(starting_letter, num_start, num_end):\n",
    "    return [f\"{starting_letter}{i}\" for i in range(num_start, num_end+1)]\n",
    "\n",
    "trans_categorical_cols = ['ProductCD'] + get_sequential_features('card', 1, 6) + get_sequential_features('addr', 1, 2) + \\\n",
    "                            ['P_emaildomain', 'R_emaildomain'] + get_sequential_features('M', 1, 9)\n",
    "id_categorical_cols = ['DeviceType', 'DeviceInfo'] + get_sequential_features('id_', 12, 38)\n",
    "print(f\"Total # of categorical variables in transaction data: {len(trans_categorical_cols)}\")\n",
    "print(f\"Total # of categorical variables in id data: {len(id_categorical_cols)}\")\n",
    "\n",
    "trans_num_cols = [c for c in train_trans.dataset.columns.tolist() if c not in trans_categorical_cols]\n",
    "id_num_cols = [c for c in train_id.dataset.columns.tolist() if c not in id_categorical_cols]\n",
    "print(f\"Total # of numerical variables in transaction data: {len(trans_num_cols)}\")\n",
    "print(f\"Total # of numerical variables in id data: {len(id_num_cols)}\")\n",
    "\n",
    "# checks\n",
    "print(f\"Total # of columns in transaction data: {len(trans_categorical_cols) + len(trans_num_cols)}\")\n",
    "print(f\"Total # of columns in id data: {len(id_categorical_cols) + len(id_num_cols)}\")"
   ]
  },
  {
   "cell_type": "code",
   "execution_count": 6,
   "metadata": {},
   "outputs": [],
   "source": [
    "# imputing -999 for all the missing values in numerical column\n",
    "for c in id_num_cols:\n",
    "    train_id.dataset[c].fillna(-999, inplace=True)\n",
    "\n",
    "for c in trans_num_cols:\n",
    "    train_trans.dataset[c].fillna(-999, inplace=True)"
   ]
  },
  {
   "cell_type": "code",
   "execution_count": 7,
   "metadata": {},
   "outputs": [],
   "source": [
    "# imputing <UNKWN> for all the missing values in categorical column\n",
    "for c in id_categorical_cols:\n",
    "    train_id.dataset[c].fillna('<UNKWN>', inplace=True)\n",
    "\n",
    "for c in trans_categorical_cols:\n",
    "    train_trans.dataset[c].fillna('<UNKWN>', inplace=True)"
   ]
  },
  {
   "cell_type": "markdown",
   "metadata": {},
   "source": [
    "## Feature selection/removal"
   ]
  },
  {
   "cell_type": "code",
   "execution_count": 8,
   "metadata": {},
   "outputs": [
    {
     "name": "stdout",
     "output_type": "stream",
     "text": [
      "(144233, 32)\n",
      "(590540, 372)\n"
     ]
    }
   ],
   "source": [
    "# Remove features with > 90% missing values\n",
    "features_to_rem_id = ['id_07', 'id_08'] + [f'id_{i}' for i in range(21,28)]\n",
    "features_to_rem_trans = ['dist1', 'D11'] + [f'M{i}' for i in range(1,10)] + [f'V{i}' for i in range(1,12)]\n",
    "\n",
    "train_id_v2 = train_id.dataset.drop(features_to_rem_id, axis=1)\n",
    "train_trans_v2 = train_trans.dataset.drop(features_to_rem_trans, axis=1)\n",
    "\n",
    "print(train_id_v2.shape)\n",
    "print(train_trans_v2.shape)"
   ]
  },
  {
   "cell_type": "code",
   "execution_count": 31,
   "metadata": {},
   "outputs": [],
   "source": [
    "# Categorical Features:\n",
    "# ProductCD\n",
    "# card1 - card6\n",
    "# addr1, addr2\n",
    "# P_emaildomain\n",
    "# R_emaildomain\n",
    "# M1 - M9\n",
    "\n",
    "# Categorical Features:\n",
    "# DeviceType\n",
    "# DeviceInfo\n",
    "# id_12 - id_38"
   ]
  },
  {
   "cell_type": "code",
   "execution_count": 11,
   "metadata": {},
   "outputs": [
    {
     "name": "stdout",
     "output_type": "stream",
     "text": [
      "(144233, 403)\n"
     ]
    }
   ],
   "source": [
    "train = train_id_v2.merge(train_trans_v2, how='inner', on='TransactionID')\n",
    "print(train.shape)"
   ]
  },
  {
   "cell_type": "code",
   "execution_count": 9,
   "metadata": {},
   "outputs": [
    {
     "name": "stdout",
     "output_type": "stream",
     "text": [
      "['TransactionID', 'id_01', 'id_02', 'id_03', 'id_04', 'id_05', 'id_06', 'id_09', 'id_10', 'id_11', 'id_12', 'id_13', 'id_14', 'id_15', 'id_16', 'id_17', 'id_18', 'id_19', 'id_20', 'id_28', 'id_29', 'id_30', 'id_31', 'id_32', 'id_33', 'id_34', 'id_35', 'id_36', 'id_37', 'id_38', 'DeviceType', 'DeviceInfo']\n",
      "['TransactionID', 'isFraud', 'TransactionDT', 'TransactionAmt', 'ProductCD', 'card1', 'card2', 'card3', 'card4', 'card5', 'card6', 'addr1', 'addr2', 'dist2', 'P_emaildomain', 'R_emaildomain', 'C1', 'C2', 'C3', 'C4', 'C5', 'C6', 'C7', 'C8', 'C9', 'C10', 'C11', 'C12', 'C13', 'C14', 'D1', 'D2', 'D3', 'D4', 'D5', 'D6', 'D7', 'D8', 'D9', 'D10', 'D12', 'D13', 'D14', 'D15', 'V12', 'V13', 'V14', 'V15', 'V16', 'V17', 'V18', 'V19', 'V20', 'V21', 'V22', 'V23', 'V24', 'V25', 'V26', 'V27', 'V28', 'V29', 'V30', 'V31', 'V32', 'V33', 'V34', 'V35', 'V36', 'V37', 'V38', 'V39', 'V40', 'V41', 'V42', 'V43', 'V44', 'V45', 'V46', 'V47', 'V48', 'V49', 'V50', 'V51', 'V52', 'V53', 'V54', 'V55', 'V56', 'V57', 'V58', 'V59', 'V60', 'V61', 'V62', 'V63', 'V64', 'V65', 'V66', 'V67', 'V68', 'V69', 'V70', 'V71', 'V72', 'V73', 'V74', 'V75', 'V76', 'V77', 'V78', 'V79', 'V80', 'V81', 'V82', 'V83', 'V84', 'V85', 'V86', 'V87', 'V88', 'V89', 'V90', 'V91', 'V92', 'V93', 'V94', 'V95', 'V96', 'V97', 'V98', 'V99', 'V100', 'V101', 'V102', 'V103', 'V104', 'V105', 'V106', 'V107', 'V108', 'V109', 'V110', 'V111', 'V112', 'V113', 'V114', 'V115', 'V116', 'V117', 'V118', 'V119', 'V120', 'V121', 'V122', 'V123', 'V124', 'V125', 'V126', 'V127', 'V128', 'V129', 'V130', 'V131', 'V132', 'V133', 'V134', 'V135', 'V136', 'V137', 'V138', 'V139', 'V140', 'V141', 'V142', 'V143', 'V144', 'V145', 'V146', 'V147', 'V148', 'V149', 'V150', 'V151', 'V152', 'V153', 'V154', 'V155', 'V156', 'V157', 'V158', 'V159', 'V160', 'V161', 'V162', 'V163', 'V164', 'V165', 'V166', 'V167', 'V168', 'V169', 'V170', 'V171', 'V172', 'V173', 'V174', 'V175', 'V176', 'V177', 'V178', 'V179', 'V180', 'V181', 'V182', 'V183', 'V184', 'V185', 'V186', 'V187', 'V188', 'V189', 'V190', 'V191', 'V192', 'V193', 'V194', 'V195', 'V196', 'V197', 'V198', 'V199', 'V200', 'V201', 'V202', 'V203', 'V204', 'V205', 'V206', 'V207', 'V208', 'V209', 'V210', 'V211', 'V212', 'V213', 'V214', 'V215', 'V216', 'V217', 'V218', 'V219', 'V220', 'V221', 'V222', 'V223', 'V224', 'V225', 'V226', 'V227', 'V228', 'V229', 'V230', 'V231', 'V232', 'V233', 'V234', 'V235', 'V236', 'V237', 'V238', 'V239', 'V240', 'V241', 'V242', 'V243', 'V244', 'V245', 'V246', 'V247', 'V248', 'V249', 'V250', 'V251', 'V252', 'V253', 'V254', 'V255', 'V256', 'V257', 'V258', 'V259', 'V260', 'V261', 'V262', 'V263', 'V264', 'V265', 'V266', 'V267', 'V268', 'V269', 'V270', 'V271', 'V272', 'V273', 'V274', 'V275', 'V276', 'V277', 'V278', 'V279', 'V280', 'V281', 'V282', 'V283', 'V284', 'V285', 'V286', 'V287', 'V288', 'V289', 'V290', 'V291', 'V292', 'V293', 'V294', 'V295', 'V296', 'V297', 'V298', 'V299', 'V300', 'V301', 'V302', 'V303', 'V304', 'V305', 'V306', 'V307', 'V308', 'V309', 'V310', 'V311', 'V312', 'V313', 'V314', 'V315', 'V316', 'V317', 'V318', 'V319', 'V320', 'V321', 'V322', 'V323', 'V324', 'V325', 'V326', 'V327', 'V328', 'V329', 'V330', 'V331', 'V332', 'V333', 'V334', 'V335', 'V336', 'V337', 'V338', 'V339']\n"
     ]
    }
   ],
   "source": [
    "print(train_id_v2.columns.tolist())\n",
    "print(train_trans_v2.columns.tolist())"
   ]
  },
  {
   "cell_type": "code",
   "execution_count": 12,
   "metadata": {},
   "outputs": [
    {
     "data": {
      "image/png": "[encoded data removed]",
      "text/plain": [
       "<Figure size 640x480 with 1 Axes>"
      ]
     },
     "metadata": {},
     "output_type": "display_data"
    }
   ],
   "source": [
    "train['ProductCD'].value_counts().plot(kind='bar')\n",
    "plt.show()"
   ]
  },
  {
   "cell_type": "code",
   "execution_count": 13,
   "metadata": {},
   "outputs": [
    {
     "data": {
      "image/png": "[encoded data removed]",
      "text/plain": [
       "<Figure size 640x480 with 1 Axes>"
      ]
     },
     "metadata": {},
     "output_type": "display_data"
    }
   ],
   "source": [
    "train.groupby(['ProductCD'])['TransactionAmt'].mean().plot(kind='bar')\n",
    "plt.show()"
   ]
  },
  {
   "cell_type": "code",
   "execution_count": null,
   "metadata": {},
   "outputs": [
    {
     "data": {
      "image/png": "[encoded data removed]",
      "text/plain": [
       "<Figure size 640x480 with 1 Axes>"
      ]
     },
     "metadata": {},
     "output_type": "display_data"
    }
   ],
   "source": [
    "train.groupby(['ProductCD'])['isFraud'].mean().sort_values(ascending=False).plot(kind='bar')\n",
    "plt.show()"
   ]
  },
  {
   "cell_type": "code",
   "execution_count": 28,
   "metadata": {},
   "outputs": [
    {
     "data": {
      "image/png": "[encoded data removed]",
      "text/plain": [
       "<Figure size 640x480 with 1 Axes>"
      ]
     },
     "metadata": {},
     "output_type": "display_data"
    }
   ],
   "source": [
    "train.groupby(['ProductCD'])['isFraud'].mean().sort_values(ascending=False).plot(kind='bar')\n",
    "plt.xlabel('ProductCD')\n",
    "plt.ylabel('Fraud Rate')\n",
    "plt.show()"
   ]
  },
  {
   "cell_type": "code",
   "execution_count": null,
   "metadata": {},
   "outputs": [
    {
     "name": "stderr",
     "output_type": "stream",
     "text": [
      "/var/folders/fg/rbnh6s990114df6hzsrg0mhc0000gn/T/ipykernel_92295/1170677352.py:15: UserWarning: \n",
      "\n",
      "`distplot` is a deprecated function and will be removed in seaborn v0.14.0.\n",
      "\n",
      "Please adapt your code to use either `displot` (a figure-level function with\n",
      "similar flexibility) or `histplot` (an axes-level function for histograms).\n",
      "\n",
      "For a guide to updating your code to use the new functions, please see\n",
      "https://gist.github.com/mwaskom/de44147ed2974457ad6372750bbe5751\n",
      "\n",
      "  sns.distplot(diffs, ax=ax)\n"
     ]
    },
    {
     "data": {
      "image/png": "[encoded data removed]",
      "text/plain": [
       "<Figure size 640x480 with 1 Axes>"
      ]
     },
     "metadata": {},
     "output_type": "display_data"
    },
    {
     "name": "stdout",
     "output_type": "stream",
     "text": [
      "observed difference: 0.07801413912757865\n",
      "p-value: 0.0\n"
     ]
    }
   ],
   "source": [
    "def permutation_test(control, treatment, n_permutations=10000):\n",
    "    n_control = len(control)\n",
    "    n_treatment = len(treatment)\n",
    "    n = n_control + n_treatment\n",
    "    observed_diff = np.abs(control.mean() - treatment.mean())\n",
    "    combined = pd.concat([control, treatment])\n",
    "    diffs = []\n",
    "    for _ in range(n_permutations):\n",
    "        np.random.shuffle(combined.values)\n",
    "        diff = np.abs(combined[:n_control].mean() - combined[n_control:].mean())\n",
    "        diffs.append(diff)\n",
    "    p_value = (np.array(diffs) >= observed_diff).mean()\n",
    "    return observed_diff, p_value\n",
    "\n",
    "# Permutation test for ProductCD C\n",
    "control = train[train['ProductCD'] != 'C']['isFraud']\n",
    "treatment = train[train['ProductCD'] == 'C']['isFraud']\n",
    "observed_diff, p_value = permutation_test(control, treatment)\n",
    "print(f\"observed difference: {observed_diff}\")\n",
    "print(f\"p-value: {p_value}\")"
   ]
  },
  {
   "cell_type": "code",
   "execution_count": null,
   "metadata": {},
   "outputs": [
    {
     "name": "stdout",
     "output_type": "stream",
     "text": [
      "Permutation test p-value for ProductCD C: 0.0\n"
     ]
    }
   ],
   "source": [
    "print(train['ProductCD'].nunique())"
   ]
  },
  {
   "cell_type": "code",
   "execution_count": 29,
   "metadata": {},
   "outputs": [
    {
     "data": {
      "text/plain": [
       "0         0\n",
       "1         0\n",
       "4         0\n",
       "5         0\n",
       "6         0\n",
       "         ..\n",
       "144217    0\n",
       "144223    0\n",
       "144226    0\n",
       "144229    1\n",
       "144231    0\n",
       "Name: isFraud, Length: 82041, dtype: int64"
      ]
     },
     "execution_count": 29,
     "metadata": {},
     "output_type": "execute_result"
    }
   ],
   "source": [
    "control"
   ]
  },
  {
   "cell_type": "code",
   "execution_count": null,
   "metadata": {},
   "outputs": [],
   "source": []
  }
 ],
 "metadata": {
  "kernelspec": {
   "display_name": ".venv",
   "language": "python",
   "name": "python3"
  },
  "language_info": {
   "codemirror_mode": {
    "name": "ipython",
    "version": 3
   },
   "file_extension": ".py",
   "mimetype": "text/x-python",
   "name": "python",
   "nbconvert_exporter": "python",
   "pygments_lexer": "ipython3",
   "version": "3.10.1"
  }
 },
 "nbformat": 4,
 "nbformat_minor": 2
}
