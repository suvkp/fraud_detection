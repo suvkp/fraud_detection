{
 "cells": [
  {
   "cell_type": "code",
   "execution_count": 1,
   "metadata": {},
   "outputs": [],
   "source": [
    "import sys\n",
    "from pathlib import Path\n",
    "\n",
    "# Get the project root path and add it to sys.path\n",
    "project_root = Path().resolve().parent  # Adjust to point to your project root if necessary\n",
    "src_path = project_root / 'src'\n",
    "\n",
    "if str(src_path) not in sys.path:\n",
    "    sys.path.append(str(src_path))"
   ]
  },
  {
   "cell_type": "code",
   "execution_count": 2,
   "metadata": {},
   "outputs": [],
   "source": [
    "import pandas as pd\n",
    "import numpy as np\n",
    "from data_loader import DataLoader\n",
    "import eda\n",
    "import seaborn as sns\n",
    "import matplotlib.pyplot as plt"
   ]
  },
  {
   "cell_type": "code",
   "execution_count": 4,
   "metadata": {},
   "outputs": [
    {
     "name": "stdout",
     "output_type": "stream",
     "text": [
      "(144233, 41)\n",
      "(590540, 394)\n",
      "(141907, 41)\n",
      "(506691, 393)\n"
     ]
    }
   ],
   "source": [
    "train_id = DataLoader(\"../data/train_identity.csv\")\n",
    "train_trans = DataLoader(\"../data/train_transaction.csv\")\n",
    "\n",
    "test_id = DataLoader(\"../data/test_identity.csv\")\n",
    "test_trans = DataLoader(\"../data/test_transaction.csv\")\n",
    "\n",
    "print(train_id.dataset.shape)\n",
    "print(train_trans.dataset.shape)\n",
    "\n",
    "print(test_id.dataset.shape)\n",
    "print(test_trans.dataset.shape)"
   ]
  },
  {
   "cell_type": "markdown",
   "metadata": {},
   "source": [
    "## Feature removal/selection"
   ]
  },
  {
   "cell_type": "code",
   "execution_count": 6,
   "metadata": {},
   "outputs": [
    {
     "name": "stdout",
     "output_type": "stream",
     "text": [
      "(144233, 32)\n",
      "(590540, 372)\n"
     ]
    }
   ],
   "source": [
    "# features with > 90% missing values\n",
    "features_to_rem_id = ['id_07', 'id_08'] + [f'id_{i}' for i in range(21,28)]\n",
    "features_to_rem_trans = ['dist1', 'D11'] + [f'M{i}' for i in range(1,10)] + [f'V{i}' for i in range(1,12)]\n",
    "\n",
    "train_id_sf = train_id.dataset.drop(features_to_rem_id, axis=1)\n",
    "train_trans_sf = train_trans.dataset.drop(features_to_rem_trans, axis=1)\n",
    "\n",
    "print(train_id_sf.shape)\n",
    "print(train_trans_sf.shape)"
   ]
  },
  {
   "cell_type": "code",
   "execution_count": null,
   "metadata": {},
   "outputs": [],
   "source": []
  }
 ],
 "metadata": {
  "kernelspec": {
   "display_name": ".venv",
   "language": "python",
   "name": "python3"
  },
  "language_info": {
   "codemirror_mode": {
    "name": "ipython",
    "version": 3
   },
   "file_extension": ".py",
   "mimetype": "text/x-python",
   "name": "python",
   "nbconvert_exporter": "python",
   "pygments_lexer": "ipython3",
   "version": "3.10.1"
  }
 },
 "nbformat": 4,
 "nbformat_minor": 2
}
