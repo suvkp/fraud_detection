{
 "cells": [
  {
   "cell_type": "code",
   "execution_count": 1,
   "metadata": {},
   "outputs": [],
   "source": [
    "import pandas as pd\n",
    "import numpy as np\n",
    "\n",
    "from src.data_preprocessing import DataPreprocessingTrain, DataPreprocessingInference\n",
    "from src.data_loader import DataLoader\n",
    "from src.model_training import ModelTraining\n",
    "from src.model_inference import ModelInference\n",
    "from src.model_evaluation import ModelEvaluation"
   ]
  },
  {
   "cell_type": "code",
   "execution_count": 2,
   "metadata": {},
   "outputs": [],
   "source": [
    "# get the data\n",
    "train_id = DataLoader(\"data/train_identity.csv\")\n",
    "train_trans = DataLoader(\"data/train_transaction.csv\")\n",
    "\n",
    "test_id = DataLoader(\"data/test_identity.csv\")\n",
    "test_trans = DataLoader(\"data/test_transaction.csv\")"
   ]
  },
  {
   "cell_type": "code",
   "execution_count": 3,
   "metadata": {},
   "outputs": [
    {
     "name": "stdout",
     "output_type": "stream",
     "text": [
      "(141907, 41)\n",
      "(506691, 393)\n"
     ]
    }
   ],
   "source": [
    "print(test_id.dataset.shape)\n",
    "print(test_trans.dataset.shape)"
   ]
  },
  {
   "cell_type": "code",
   "execution_count": 4,
   "metadata": {},
   "outputs": [],
   "source": [
    "# preprocess the training data\n",
    "X_train, X_val, y_train, y_val = DataPreprocessingTrain(create_val_set=True).transform(train_id.dataset, train_trans.dataset)"
   ]
  },
  {
   "cell_type": "code",
   "execution_count": 5,
   "metadata": {},
   "outputs": [
    {
     "name": "stdout",
     "output_type": "stream",
     "text": [
      "(472432, 400) (118108, 400) (472432,) (118108,)\n",
      "0    455902\n",
      "1     16530\n",
      "Name: isFraud, dtype: int64\n",
      "0    113975\n",
      "1      4133\n",
      "Name: isFraud, dtype: int64\n"
     ]
    }
   ],
   "source": [
    "print(X_train.shape, X_val.shape, y_train.shape, y_val.shape)\n",
    "print(y_train.value_counts())\n",
    "print(y_val.value_counts())"
   ]
  },
  {
   "cell_type": "code",
   "execution_count": 6,
   "metadata": {},
   "outputs": [
    {
     "name": "stdout",
     "output_type": "stream",
     "text": [
      "['id_12', 'id_15', 'id_16', 'id_28', 'id_29', 'id_30', 'id_31', 'id_33', 'id_34', 'id_35', 'id_36', 'id_37', 'id_38', 'DeviceType', 'DeviceInfo', 'ProductCD', 'card4', 'card6', 'P_emaildomain', 'R_emaildomain']\n"
     ]
    }
   ],
   "source": [
    "# get categorical columns\n",
    "cat_cols = X_train.select_dtypes(include=['object']).columns.tolist()\n",
    "print(cat_cols)"
   ]
  },
  {
   "cell_type": "code",
   "execution_count": 7,
   "metadata": {},
   "outputs": [
    {
     "name": "stdout",
     "output_type": "stream",
     "text": [
      "Learning rate set to 0.145034\n",
      "0:\ttest: 0.6959991\tbest: 0.6959991 (0)\ttotal: 620ms\tremaining: 10m 19s\n",
      "100:\ttest: 0.8954296\tbest: 0.8954296 (100)\ttotal: 53.6s\tremaining: 7m 57s\n",
      "200:\ttest: 0.9099658\tbest: 0.9099658 (200)\ttotal: 1m 49s\tremaining: 7m 13s\n",
      "300:\ttest: 0.9163182\tbest: 0.9163182 (300)\ttotal: 2m 47s\tremaining: 6m 28s\n",
      "400:\ttest: 0.9212292\tbest: 0.9212292 (400)\ttotal: 3m 46s\tremaining: 5m 38s\n",
      "500:\ttest: 0.9244568\tbest: 0.9244846 (499)\ttotal: 4m 45s\tremaining: 4m 44s\n",
      "600:\ttest: 0.9269106\tbest: 0.9269106 (600)\ttotal: 5m 46s\tremaining: 3m 50s\n",
      "700:\ttest: 0.9289656\tbest: 0.9289656 (700)\ttotal: 6m 47s\tremaining: 2m 53s\n",
      "800:\ttest: 0.9310598\tbest: 0.9310598 (800)\ttotal: 7m 48s\tremaining: 1m 56s\n",
      "900:\ttest: 0.9329882\tbest: 0.9329882 (900)\ttotal: 8m 49s\tremaining: 58.2s\n",
      "999:\ttest: 0.9347366\tbest: 0.9347366 (999)\ttotal: 9m 57s\tremaining: 0us\n",
      "\n",
      "bestTest = 0.934736592\n",
      "bestIteration = 999\n",
      "\n"
     ]
    },
    {
     "data": {
      "text/plain": [
       "<src.model_training.ModelTraining at 0x13cf15e70>"
      ]
     },
     "execution_count": 7,
     "metadata": {},
     "output_type": "execute_result"
    }
   ],
   "source": [
    "# Model training\n",
    "params = {\n",
    "    'loss_function': 'Logloss',\n",
    "    'eval_metric': 'AUC',\n",
    "    'random_seed': 42\n",
    "}\n",
    "\n",
    "fit_params = {\n",
    "    'cat_features': cat_cols,\n",
    "    'early_stopping_rounds': 25,\n",
    "    'eval_set': (X_val, y_val),\n",
    "    'verbose': 100,\n",
    "    'use_best_model': True\n",
    "}\n",
    "\n",
    "model = ModelTraining(params=params)\n",
    "model.train(X_train, y_train, fit_params=fit_params)"
   ]
  },
  {
   "cell_type": "code",
   "execution_count": 8,
   "metadata": {},
   "outputs": [],
   "source": [
    "# preprocessing the test data\n",
    "X_test = DataPreprocessingInference().transform(test_id.dataset, test_trans.dataset)"
   ]
  },
  {
   "cell_type": "code",
   "execution_count": 9,
   "metadata": {},
   "outputs": [
    {
     "name": "stdout",
     "output_type": "stream",
     "text": [
      "(506691, 400)\n"
     ]
    }
   ],
   "source": [
    "print(X_test.shape)"
   ]
  },
  {
   "cell_type": "code",
   "execution_count": 10,
   "metadata": {},
   "outputs": [],
   "source": [
    "# Make inference\n",
    "y_pred = ModelInference(model_object=model.model).predict_proba(X_test)"
   ]
  },
  {
   "cell_type": "code",
   "execution_count": 13,
   "metadata": {},
   "outputs": [
    {
     "data": {
      "text/plain": [
       "array([[0.99624146, 0.00375854],\n",
       "       [0.99087893, 0.00912107],\n",
       "       [0.99423535, 0.00576465],\n",
       "       ...,\n",
       "       [0.99088957, 0.00911043],\n",
       "       [0.99013737, 0.00986263],\n",
       "       [0.99219942, 0.00780058]])"
      ]
     },
     "execution_count": 13,
     "metadata": {},
     "output_type": "execute_result"
    }
   ],
   "source": [
    "y_pred"
   ]
  },
  {
   "cell_type": "code",
   "execution_count": 15,
   "metadata": {},
   "outputs": [],
   "source": [
    "# create submission file\n",
    "sample_submission = pd.read_csv(\"data/sample_submission.csv\")\n",
    "sample_submission['isFraud'] = y_pred[:, 1]\n",
    "sample_submission.to_csv(\"data/submission.csv\", index=False)"
   ]
  },
  {
   "cell_type": "code",
   "execution_count": null,
   "metadata": {},
   "outputs": [],
   "source": [
    "# submission requires 506691 rows\n",
    "# test_id dataset has 141907 rows\n",
    "# hence, i need to figure out how to handle this"
   ]
  }
 ],
 "metadata": {
  "kernelspec": {
   "display_name": ".venv",
   "language": "python",
   "name": "python3"
  },
  "language_info": {
   "codemirror_mode": {
    "name": "ipython",
    "version": 3
   },
   "file_extension": ".py",
   "mimetype": "text/x-python",
   "name": "python",
   "nbconvert_exporter": "python",
   "pygments_lexer": "ipython3",
   "version": "3.10.1"
  }
 },
 "nbformat": 4,
 "nbformat_minor": 2
}
