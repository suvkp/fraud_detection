{
 "cells": [
  {
   "cell_type": "code",
   "execution_count": 1,
   "metadata": {},
   "outputs": [],
   "source": [
    "import pandas as pd\n",
    "import numpy as np\n",
    "\n",
    "from src.data_preprocessing import DataPreprocessingTrain, DataPreprocessingInference\n",
    "from src.data_loader import DataLoader\n",
    "from src.model_training import ModelTraining\n",
    "from src.model_inference import ModelInference\n",
    "from src.model_evaluation import ModelEvaluation"
   ]
  },
  {
   "cell_type": "code",
   "execution_count": 2,
   "metadata": {},
   "outputs": [],
   "source": [
    "# get the data\n",
    "train_id = DataLoader(\"data/train_identity.csv\")\n",
    "train_trans = DataLoader(\"data/train_transaction.csv\")\n",
    "\n",
    "test_id = DataLoader(\"data/test_identity.csv\")\n",
    "test_trans = DataLoader(\"data/test_transaction.csv\")"
   ]
  },
  {
   "cell_type": "code",
   "execution_count": 3,
   "metadata": {},
   "outputs": [],
   "source": [
    "# preprocess the training data\n",
    "X_train, X_val, y_train, y_val = DataPreprocessingTrain(create_val_set=True).transform(train_id.dataset, train_trans.dataset)"
   ]
  },
  {
   "cell_type": "code",
   "execution_count": 4,
   "metadata": {},
   "outputs": [
    {
     "name": "stdout",
     "output_type": "stream",
     "text": [
      "(115386, 400) (28847, 400) (115386,) (28847,)\n",
      "0    106332\n",
      "1      9054\n",
      "Name: isFraud, dtype: int64\n",
      "0    26583\n",
      "1     2264\n",
      "Name: isFraud, dtype: int64\n"
     ]
    }
   ],
   "source": [
    "print(X_train.shape, X_val.shape, y_train.shape, y_val.shape)\n",
    "print(y_train.value_counts())\n",
    "print(y_val.value_counts())"
   ]
  },
  {
   "cell_type": "code",
   "execution_count": 5,
   "metadata": {},
   "outputs": [
    {
     "name": "stdout",
     "output_type": "stream",
     "text": [
      "['id_12', 'id_15', 'id_16', 'id_28', 'id_29', 'id_30', 'id_31', 'id_33', 'id_34', 'id_35', 'id_36', 'id_37', 'id_38', 'DeviceType', 'DeviceInfo', 'ProductCD', 'card4', 'card6', 'P_emaildomain', 'R_emaildomain']\n"
     ]
    }
   ],
   "source": [
    "# get categorical columns\n",
    "cat_cols = X_train.select_dtypes(include=['object']).columns.tolist()\n",
    "print(cat_cols)"
   ]
  },
  {
   "cell_type": "code",
   "execution_count": 6,
   "metadata": {},
   "outputs": [
    {
     "name": "stdout",
     "output_type": "stream",
     "text": [
      "Learning rate set to 0.102391\n",
      "0:\ttest: 0.7985765\tbest: 0.7985765 (0)\ttotal: 190ms\tremaining: 3m 10s\n",
      "100:\ttest: 0.9570759\tbest: 0.9570759 (100)\ttotal: 13.4s\tremaining: 1m 59s\n",
      "200:\ttest: 0.9639872\tbest: 0.9639872 (200)\ttotal: 26.3s\tremaining: 1m 44s\n",
      "300:\ttest: 0.9676430\tbest: 0.9676430 (300)\ttotal: 39.3s\tremaining: 1m 31s\n",
      "400:\ttest: 0.9697342\tbest: 0.9697342 (400)\ttotal: 52.7s\tremaining: 1m 18s\n",
      "500:\ttest: 0.9710195\tbest: 0.9710195 (500)\ttotal: 1m 5s\tremaining: 1m 5s\n",
      "600:\ttest: 0.9719973\tbest: 0.9719973 (600)\ttotal: 1m 19s\tremaining: 52.5s\n",
      "700:\ttest: 0.9728146\tbest: 0.9728146 (700)\ttotal: 1m 32s\tremaining: 39.6s\n",
      "800:\ttest: 0.9734620\tbest: 0.9734620 (800)\ttotal: 1m 46s\tremaining: 26.6s\n",
      "900:\ttest: 0.9744132\tbest: 0.9744132 (900)\ttotal: 2m\tremaining: 13.3s\n",
      "999:\ttest: 0.9749630\tbest: 0.9749630 (999)\ttotal: 2m 15s\tremaining: 0us\n",
      "\n",
      "bestTest = 0.9749630433\n",
      "bestIteration = 999\n",
      "\n"
     ]
    },
    {
     "data": {
      "text/plain": [
       "<src.model_training.ModelTraining at 0x147af2140>"
      ]
     },
     "execution_count": 6,
     "metadata": {},
     "output_type": "execute_result"
    }
   ],
   "source": [
    "# Model training\n",
    "params = {\n",
    "    'loss_function': 'Logloss',\n",
    "    'eval_metric': 'AUC',\n",
    "    'random_seed': 42\n",
    "}\n",
    "\n",
    "fit_params = {\n",
    "    'cat_features': cat_cols,\n",
    "    'early_stopping_rounds': 50,\n",
    "    'eval_set': (X_val, y_val),\n",
    "    'verbose': 100,\n",
    "    'use_best_model': True\n",
    "}\n",
    "\n",
    "model = ModelTraining(params=params)\n",
    "model.train(X_train, y_train, fit_params=fit_params)"
   ]
  },
  {
   "cell_type": "code",
   "execution_count": 7,
   "metadata": {},
   "outputs": [],
   "source": [
    "# preprocessing the test data\n",
    "X_test = DataPreprocessingInference().transform(test_id.dataset, test_trans.dataset)"
   ]
  },
  {
   "cell_type": "code",
   "execution_count": 8,
   "metadata": {},
   "outputs": [
    {
     "name": "stdout",
     "output_type": "stream",
     "text": [
      "(141907, 400)\n"
     ]
    }
   ],
   "source": [
    "print(X_test.shape)"
   ]
  },
  {
   "cell_type": "code",
   "execution_count": 9,
   "metadata": {},
   "outputs": [],
   "source": [
    "# Make inference\n",
    "y_pred = ModelInference(model_object=model.model).predict_proba(X_test)"
   ]
  },
  {
   "cell_type": "code",
   "execution_count": 10,
   "metadata": {},
   "outputs": [],
   "source": [
    "# create submission file\n",
    "submission = pd.concat([test_id.dataset['TransactionID'], pd.Series(y_pred[:, 1])], axis=1)\n",
    "submission.columns = ['TransactionID', 'isFraud']\n",
    "submission.to_csv(\"data/submission.csv\", index=False)"
   ]
  },
  {
   "cell_type": "code",
   "execution_count": 11,
   "metadata": {},
   "outputs": [
    {
     "name": "stdout",
     "output_type": "stream",
     "text": [
      "(141907, 2)\n"
     ]
    }
   ],
   "source": [
    "print(submission.shape)"
   ]
  },
  {
   "cell_type": "code",
   "execution_count": 12,
   "metadata": {},
   "outputs": [
    {
     "name": "stdout",
     "output_type": "stream",
     "text": [
      "141907\n"
     ]
    }
   ],
   "source": [
    "print(test_id.dataset['TransactionID'].nunique())"
   ]
  },
  {
   "cell_type": "code",
   "execution_count": null,
   "metadata": {},
   "outputs": [],
   "source": [
    "# submission requires 506691 rows\n",
    "# test_id dataset has 141907 rows\n",
    "# hence, i need to figure out how to handle this"
   ]
  }
 ],
 "metadata": {
  "kernelspec": {
   "display_name": ".venv",
   "language": "python",
   "name": "python3"
  },
  "language_info": {
   "codemirror_mode": {
    "name": "ipython",
    "version": 3
   },
   "file_extension": ".py",
   "mimetype": "text/x-python",
   "name": "python",
   "nbconvert_exporter": "python",
   "pygments_lexer": "ipython3",
   "version": "3.10.1"
  }
 },
 "nbformat": 4,
 "nbformat_minor": 2
}
